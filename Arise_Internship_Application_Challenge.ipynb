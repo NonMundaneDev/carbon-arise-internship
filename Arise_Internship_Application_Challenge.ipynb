{
  "nbformat": 4,
  "nbformat_minor": 0,
  "metadata": {
    "kernelspec": {
      "display_name": "Python 3",
      "language": "python",
      "name": "python3"
    },
    "language_info": {
      "codemirror_mode": {
        "name": "ipython",
        "version": 3
      },
      "file_extension": ".py",
      "mimetype": "text/x-python",
      "name": "python",
      "nbconvert_exporter": "python",
      "pygments_lexer": "ipython3",
      "version": "3.6.6"
    },
    "colab": {
      "name": "Arise Internship Application Challenge.ipynb",
      "provenance": [],
      "include_colab_link": true
    }
  },
  "cells": [
    {
      "cell_type": "markdown",
      "metadata": {
        "id": "view-in-github",
        "colab_type": "text"
      },
      "source": [
        "<a href=\"https://colab.research.google.com/github/NonMundaneDev/carbon-arise-internship/blob/main/Arise_Internship_Application_Challenge.ipynb\" target=\"_parent\"><img src=\"https://colab.research.google.com/assets/colab-badge.svg\" alt=\"Open In Colab\"/></a>"
      ]
    },
    {
      "cell_type": "markdown",
      "metadata": {
        "id": "6fUlhuh99wtR"
      },
      "source": [
        "# Arise Application Challenge\n",
        "---"
      ]
    },
    {
      "cell_type": "markdown",
      "metadata": {
        "id": "BrcCR1Vq9wtW"
      },
      "source": [
        "Please answer the questions shown below by completing the code within this notebook and filling in your final answers in the respective block of the arise Challenge Answers form. "
      ]
    },
    {
      "cell_type": "markdown",
      "metadata": {
        "id": "ikH1GVVq9wtY"
      },
      "source": [
        "---"
      ]
    },
    {
      "cell_type": "markdown",
      "metadata": {
        "id": "n7w0p6AM9wtY"
      },
      "source": [
        "### Step 1 (this step does not have an answer in the answer form)"
      ]
    },
    {
      "cell_type": "markdown",
      "metadata": {
        "id": "rVCv0Ju69wtZ"
      },
      "source": [
        "Please import the Pandas package. You will need to install the package if you do not already have them (`hint - google anaconda install pandas`)."
      ]
    },
    {
      "cell_type": "code",
      "metadata": {
        "id": "q4zBhbrD9wtZ"
      },
      "source": [
        "# Add your code for Question 1 in this code block\n",
        "import pandas as pd"
      ],
      "execution_count": null,
      "outputs": []
    },
    {
      "cell_type": "markdown",
      "metadata": {
        "id": "oblC7UWm9wta"
      },
      "source": [
        "---"
      ]
    },
    {
      "cell_type": "markdown",
      "metadata": {
        "id": "S5og-Ly99wta"
      },
      "source": [
        "### Step 2 (this step does not have an answer in the answer form)"
      ]
    },
    {
      "cell_type": "markdown",
      "metadata": {
        "id": "hFRP5F3X9wtb"
      },
      "source": [
        "Use Pandas to read in the csv titled `application_data.csv` as a Panda's dataframe. Once you have read in the data as a dataframe use Panda's `head()` function to show an overview of the data."
      ]
    },
    {
      "cell_type": "code",
      "metadata": {
        "id": "m-4ulzRo9wtb"
      },
      "source": [
        "# Add your code for Question 2 in this code block\n",
        "data = pd.read_csv('application_data.csv')"
      ],
      "execution_count": null,
      "outputs": []
    },
    {
      "cell_type": "code",
      "metadata": {
        "id": "rBPWEtO89wtb",
        "outputId": "78f6a3e8-ab08-4838-fffc-3d6adf72665d"
      },
      "source": [
        "# Check for the first five rows of your data\n",
        "data.head()"
      ],
      "execution_count": null,
      "outputs": [
        {
          "output_type": "execute_result",
          "data": {
            "text/html": [
              "<div>\n",
              "<style scoped>\n",
              "    .dataframe tbody tr th:only-of-type {\n",
              "        vertical-align: middle;\n",
              "    }\n",
              "\n",
              "    .dataframe tbody tr th {\n",
              "        vertical-align: top;\n",
              "    }\n",
              "\n",
              "    .dataframe thead th {\n",
              "        text-align: right;\n",
              "    }\n",
              "</style>\n",
              "<table border=\"1\" class=\"dataframe\">\n",
              "  <thead>\n",
              "    <tr style=\"text-align: right;\">\n",
              "      <th></th>\n",
              "      <th>customerID</th>\n",
              "      <th>loanId</th>\n",
              "      <th>appilcationDate</th>\n",
              "      <th>LoanNumber</th>\n",
              "      <th>LoanAmount</th>\n",
              "      <th>InterestRate</th>\n",
              "      <th>TermDays</th>\n",
              "      <th>repaymentDueDate</th>\n",
              "      <th>repaymentPaidDate</th>\n",
              "    </tr>\n",
              "  </thead>\n",
              "  <tbody>\n",
              "    <tr>\n",
              "      <th>0</th>\n",
              "      <td>839247458</td>\n",
              "      <td>302953235622</td>\n",
              "      <td>2018-12-21</td>\n",
              "      <td>1</td>\n",
              "      <td>7500.0</td>\n",
              "      <td>30.0</td>\n",
              "      <td>30</td>\n",
              "      <td>2019-01-20</td>\n",
              "      <td>2019-01-16</td>\n",
              "    </tr>\n",
              "    <tr>\n",
              "      <th>1</th>\n",
              "      <td>217540860</td>\n",
              "      <td>302960101337</td>\n",
              "      <td>2018-12-23</td>\n",
              "      <td>1</td>\n",
              "      <td>7500.0</td>\n",
              "      <td>30.0</td>\n",
              "      <td>30</td>\n",
              "      <td>2019-01-22</td>\n",
              "      <td>2018-12-29</td>\n",
              "    </tr>\n",
              "    <tr>\n",
              "      <th>2</th>\n",
              "      <td>522238092</td>\n",
              "      <td>303016988846</td>\n",
              "      <td>2019-01-08</td>\n",
              "      <td>1</td>\n",
              "      <td>7500.0</td>\n",
              "      <td>30.0</td>\n",
              "      <td>30</td>\n",
              "      <td>2019-02-07</td>\n",
              "      <td>2019-01-08</td>\n",
              "    </tr>\n",
              "    <tr>\n",
              "      <th>3</th>\n",
              "      <td>096754469</td>\n",
              "      <td>302999605504</td>\n",
              "      <td>2019-01-04</td>\n",
              "      <td>1</td>\n",
              "      <td>7500.0</td>\n",
              "      <td>30.0</td>\n",
              "      <td>30</td>\n",
              "      <td>2019-02-03</td>\n",
              "      <td>2019-01-08</td>\n",
              "    </tr>\n",
              "    <tr>\n",
              "      <th>4</th>\n",
              "      <td>410354345</td>\n",
              "      <td>302951945878</td>\n",
              "      <td>2018-12-21</td>\n",
              "      <td>1</td>\n",
              "      <td>7500.0</td>\n",
              "      <td>30.0</td>\n",
              "      <td>30</td>\n",
              "      <td>2019-01-20</td>\n",
              "      <td>2019-01-17</td>\n",
              "    </tr>\n",
              "  </tbody>\n",
              "</table>\n",
              "</div>"
            ],
            "text/plain": [
              "  customerID        loanId appilcationDate  LoanNumber  LoanAmount  \\\n",
              "0  839247458  302953235622      2018-12-21           1      7500.0   \n",
              "1  217540860  302960101337      2018-12-23           1      7500.0   \n",
              "2  522238092  303016988846      2019-01-08           1      7500.0   \n",
              "3  096754469  302999605504      2019-01-04           1      7500.0   \n",
              "4  410354345  302951945878      2018-12-21           1      7500.0   \n",
              "\n",
              "   InterestRate  TermDays repaymentDueDate repaymentPaidDate  \n",
              "0          30.0        30       2019-01-20        2019-01-16  \n",
              "1          30.0        30       2019-01-22        2018-12-29  \n",
              "2          30.0        30       2019-02-07        2019-01-08  \n",
              "3          30.0        30       2019-02-03        2019-01-08  \n",
              "4          30.0        30       2019-01-20        2019-01-17  "
            ]
          },
          "metadata": {
            "tags": []
          },
          "execution_count": 162
        }
      ]
    },
    {
      "cell_type": "markdown",
      "metadata": {
        "id": "8jzkjU1b9wtc"
      },
      "source": [
        "You should now be able to see that the dataset contains information relating to loans that have been disbursed. Each row of the data is specific to a particular loan and displays the customer's ID that took out the loan, a unique loan ID, the date when the client applied for the loan, the loan number of the specific loan (how many loans the client has now taken out), the amount, interest rate, term days, the date when the loan repayment was due and the date the loan was actually repaid."
      ]
    },
    {
      "cell_type": "markdown",
      "metadata": {
        "id": "BSAQsEW-9wtd"
      },
      "source": [
        "---"
      ]
    },
    {
      "cell_type": "markdown",
      "metadata": {
        "id": "5EwrKsvQ9wtd"
      },
      "source": [
        "### Question 1"
      ]
    },
    {
      "cell_type": "markdown",
      "metadata": {
        "id": "jXX6XnMM9wte"
      },
      "source": [
        "Convert `appilcationDate`, `repaymentDueDate` and `repaymentPaidDate` in the dataframes to datetimes. "
      ]
    },
    {
      "cell_type": "code",
      "metadata": {
        "id": "O760xrUX9wtg",
        "outputId": "dbff0f5a-0139-4cf3-c2ef-737231c46de7"
      },
      "source": [
        "# I typically call the `.columns()` function so I can copy and paste the appropriate column names\n",
        "data.columns"
      ],
      "execution_count": null,
      "outputs": [
        {
          "output_type": "execute_result",
          "data": {
            "text/plain": [
              "Index(['customerID', 'loanId', 'appilcationDate', 'LoanNumber', 'LoanAmount',\n",
              "       'InterestRate', 'TermDays', 'repaymentDueDate', 'repaymentPaidDate'],\n",
              "      dtype='object')"
            ]
          },
          "metadata": {
            "tags": []
          },
          "execution_count": 163
        }
      ]
    },
    {
      "cell_type": "code",
      "metadata": {
        "id": "ZyI68vBr9wtg"
      },
      "source": [
        "# convert to dates\n",
        "from datetime import datetime, date, time   # This should have been imported in the first cell as it...\n",
        "                                            # ... is bad practice to import modules away from the beginning cells\n",
        "\n",
        "data['appilcationDate'] = pd.to_datetime(data['appilcationDate'])\n",
        "data['repaymentDueDate'] = pd.to_datetime(data['repaymentDueDate'])\n",
        "data['repaymentPaidDate'] = pd.to_datetime(data['repaymentPaidDate'])\n"
      ],
      "execution_count": null,
      "outputs": []
    },
    {
      "cell_type": "code",
      "metadata": {
        "id": "P19BQrYz9wth",
        "outputId": "08cf48c0-c104-409c-d31d-b52fcb4d0653"
      },
      "source": [
        "# Check for the first five rows of the dataframe\n",
        "\n",
        "data.head()"
      ],
      "execution_count": null,
      "outputs": [
        {
          "output_type": "execute_result",
          "data": {
            "text/html": [
              "<div>\n",
              "<style scoped>\n",
              "    .dataframe tbody tr th:only-of-type {\n",
              "        vertical-align: middle;\n",
              "    }\n",
              "\n",
              "    .dataframe tbody tr th {\n",
              "        vertical-align: top;\n",
              "    }\n",
              "\n",
              "    .dataframe thead th {\n",
              "        text-align: right;\n",
              "    }\n",
              "</style>\n",
              "<table border=\"1\" class=\"dataframe\">\n",
              "  <thead>\n",
              "    <tr style=\"text-align: right;\">\n",
              "      <th></th>\n",
              "      <th>customerID</th>\n",
              "      <th>loanId</th>\n",
              "      <th>appilcationDate</th>\n",
              "      <th>LoanNumber</th>\n",
              "      <th>LoanAmount</th>\n",
              "      <th>InterestRate</th>\n",
              "      <th>TermDays</th>\n",
              "      <th>repaymentDueDate</th>\n",
              "      <th>repaymentPaidDate</th>\n",
              "    </tr>\n",
              "  </thead>\n",
              "  <tbody>\n",
              "    <tr>\n",
              "      <th>0</th>\n",
              "      <td>839247458</td>\n",
              "      <td>302953235622</td>\n",
              "      <td>2018-12-21</td>\n",
              "      <td>1</td>\n",
              "      <td>7500.0</td>\n",
              "      <td>30.0</td>\n",
              "      <td>30</td>\n",
              "      <td>2019-01-20</td>\n",
              "      <td>2019-01-16</td>\n",
              "    </tr>\n",
              "    <tr>\n",
              "      <th>1</th>\n",
              "      <td>217540860</td>\n",
              "      <td>302960101337</td>\n",
              "      <td>2018-12-23</td>\n",
              "      <td>1</td>\n",
              "      <td>7500.0</td>\n",
              "      <td>30.0</td>\n",
              "      <td>30</td>\n",
              "      <td>2019-01-22</td>\n",
              "      <td>2018-12-29</td>\n",
              "    </tr>\n",
              "    <tr>\n",
              "      <th>2</th>\n",
              "      <td>522238092</td>\n",
              "      <td>303016988846</td>\n",
              "      <td>2019-01-08</td>\n",
              "      <td>1</td>\n",
              "      <td>7500.0</td>\n",
              "      <td>30.0</td>\n",
              "      <td>30</td>\n",
              "      <td>2019-02-07</td>\n",
              "      <td>2019-01-08</td>\n",
              "    </tr>\n",
              "    <tr>\n",
              "      <th>3</th>\n",
              "      <td>096754469</td>\n",
              "      <td>302999605504</td>\n",
              "      <td>2019-01-04</td>\n",
              "      <td>1</td>\n",
              "      <td>7500.0</td>\n",
              "      <td>30.0</td>\n",
              "      <td>30</td>\n",
              "      <td>2019-02-03</td>\n",
              "      <td>2019-01-08</td>\n",
              "    </tr>\n",
              "    <tr>\n",
              "      <th>4</th>\n",
              "      <td>410354345</td>\n",
              "      <td>302951945878</td>\n",
              "      <td>2018-12-21</td>\n",
              "      <td>1</td>\n",
              "      <td>7500.0</td>\n",
              "      <td>30.0</td>\n",
              "      <td>30</td>\n",
              "      <td>2019-01-20</td>\n",
              "      <td>2019-01-17</td>\n",
              "    </tr>\n",
              "  </tbody>\n",
              "</table>\n",
              "</div>"
            ],
            "text/plain": [
              "  customerID        loanId appilcationDate  LoanNumber  LoanAmount  \\\n",
              "0  839247458  302953235622      2018-12-21           1      7500.0   \n",
              "1  217540860  302960101337      2018-12-23           1      7500.0   \n",
              "2  522238092  303016988846      2019-01-08           1      7500.0   \n",
              "3  096754469  302999605504      2019-01-04           1      7500.0   \n",
              "4  410354345  302951945878      2018-12-21           1      7500.0   \n",
              "\n",
              "   InterestRate  TermDays repaymentDueDate repaymentPaidDate  \n",
              "0          30.0        30       2019-01-20        2019-01-16  \n",
              "1          30.0        30       2019-01-22        2018-12-29  \n",
              "2          30.0        30       2019-02-07        2019-01-08  \n",
              "3          30.0        30       2019-02-03        2019-01-08  \n",
              "4          30.0        30       2019-01-20        2019-01-17  "
            ]
          },
          "metadata": {
            "tags": []
          },
          "execution_count": 165
        }
      ]
    },
    {
      "cell_type": "markdown",
      "metadata": {
        "id": "5yvj3Xho9wth"
      },
      "source": [
        "Now that the dates have been converted, How many `unique`data types are contained within the application dataset?"
      ]
    },
    {
      "cell_type": "code",
      "metadata": {
        "id": "YL8UDTo99wti",
        "outputId": "82f2c07c-cda3-4ce2-a32f-bef3f5ceb06f"
      },
      "source": [
        "# data types\n",
        "\n",
        "# You can confirm the number of unique data types by calling the `nunique()` function on the dtypes attribute\n",
        "\n",
        "data.dtypes.nunique()"
      ],
      "execution_count": null,
      "outputs": [
        {
          "output_type": "execute_result",
          "data": {
            "text/plain": [
              "4"
            ]
          },
          "metadata": {
            "tags": []
          },
          "execution_count": 166
        }
      ]
    },
    {
      "cell_type": "markdown",
      "metadata": {
        "id": "V-qI7fwt9wti"
      },
      "source": [
        "### Question 2"
      ]
    },
    {
      "cell_type": "markdown",
      "metadata": {
        "id": "_DfhlF7f9wtj"
      },
      "source": [
        "Please calculate the `average` loan amount, interest rate and termdays for all the loans in the dataset? `Round` all number to two decimal places."
      ]
    },
    {
      "cell_type": "code",
      "metadata": {
        "id": "EIVCD4Kk9wtj",
        "outputId": "7226dda0-3914-43ed-b0f7-2f3ff3bdbeb3"
      },
      "source": [
        "# 2a avg loan amount\n",
        "round(data['LoanAmount'].mean(), 2)"
      ],
      "execution_count": null,
      "outputs": [
        {
          "output_type": "execute_result",
          "data": {
            "text/plain": [
              "13828.08"
            ]
          },
          "metadata": {
            "tags": []
          },
          "execution_count": 167
        }
      ]
    },
    {
      "cell_type": "code",
      "metadata": {
        "id": "o3a0uMgC9wtk",
        "outputId": "7e4952e2-bf29-4739-fd39-8487cd676d36"
      },
      "source": [
        "# 2b avg interest rate\n",
        "round(data['InterestRate'].mean(), 2)"
      ],
      "execution_count": null,
      "outputs": [
        {
          "output_type": "execute_result",
          "data": {
            "text/plain": [
              "23.06"
            ]
          },
          "metadata": {
            "tags": []
          },
          "execution_count": 168
        }
      ]
    },
    {
      "cell_type": "code",
      "metadata": {
        "id": "IA9XGfX79wtl",
        "outputId": "54a90747-1d4e-4698-9f9f-5ed337eb2538"
      },
      "source": [
        "# 2c avg term days \n",
        "round(data['TermDays'].mean(), 2)"
      ],
      "execution_count": null,
      "outputs": [
        {
          "output_type": "execute_result",
          "data": {
            "text/plain": [
              "42.08"
            ]
          },
          "metadata": {
            "tags": []
          },
          "execution_count": 169
        }
      ]
    },
    {
      "cell_type": "markdown",
      "metadata": {
        "id": "-Xgu1-SH9wtl"
      },
      "source": [
        "---"
      ]
    },
    {
      "cell_type": "markdown",
      "metadata": {
        "id": "bAr66hi49wtm"
      },
      "source": [
        "### Question 3"
      ]
    },
    {
      "cell_type": "markdown",
      "metadata": {
        "id": "wZ7VS67h9wtm"
      },
      "source": [
        "Please create a new column called `dateDifference` which needs to contains the number of days between when the loan was repaid and when it was due to be repaid. \n",
        "\n",
        "Count the number of loans that were paid more than 3 days late. This can be done by first creating a dataframe only containing the loans that were paid more than 3 days late. "
      ]
    },
    {
      "cell_type": "code",
      "metadata": {
        "id": "-9NRyoEC9wtm"
      },
      "source": [
        "# number of loans more than 3 days late\n",
        "\n",
        "data_diff = data['repaymentDueDate'] - data['repaymentPaidDate'] # This will return number of days\n",
        "\n",
        "# convert data_diff to an integer so we can perform a boolean operation to check for the time loans...\n",
        "# ... were more than 3 days late.\n",
        "\n",
        "data['dateDifference']  = (data_diff).astype('timedelta64[D]').astype(int)\n",
        "\n",
        "\n",
        "# Since we have converted our number of days to an integer, we can now perform a boolean operation...\n",
        "after_3_days  = data[data['dateDifference'] > 3]\n"
      ],
      "execution_count": null,
      "outputs": []
    },
    {
      "cell_type": "code",
      "metadata": {
        "id": "UvivyDzA9wtn",
        "outputId": "9d6f99a8-a2e5-4924-a373-143b67cd5f1b"
      },
      "source": [
        "# Then count the number of loans that were paid after 3 days...\n",
        "\n",
        "after_3_days['LoanNumber'].count()"
      ],
      "execution_count": null,
      "outputs": [
        {
          "output_type": "execute_result",
          "data": {
            "text/plain": [
              "555"
            ]
          },
          "metadata": {
            "tags": []
          },
          "execution_count": 206
        }
      ]
    },
    {
      "cell_type": "code",
      "metadata": {
        "id": "diSDdINs9wtn",
        "outputId": "5f1e08d3-9700-4464-a449-0ee2e7b1d9c0"
      },
      "source": [
        "# You can check the first five rows to confirm that numbers <= 3 have been filtered out\n",
        "\n",
        "after_3_days['dateDifference'].head()"
      ],
      "execution_count": null,
      "outputs": [
        {
          "output_type": "execute_result",
          "data": {
            "text/plain": [
              "0     4\n",
              "1    24\n",
              "2    30\n",
              "3    26\n",
              "5    71\n",
              "Name: dateDifference, dtype: int32"
            ]
          },
          "metadata": {
            "tags": []
          },
          "execution_count": 207
        }
      ]
    },
    {
      "cell_type": "markdown",
      "metadata": {
        "id": "7JE0uyln9wto"
      },
      "source": [
        "### Question 4"
      ]
    },
    {
      "cell_type": "markdown",
      "metadata": {
        "id": "2pEsg5PI9wto"
      },
      "source": [
        "Please group the dataset by `TermDays` and calculate the `mean` loan amount and the `standard deviation` of loan amount within each term.\n",
        "\n",
        "What is the mean loan amount in 30-day loans and what is the standard deviation of  loan amount in 90-day loans? Please give your answers to the nearest two decimal places. "
      ]
    },
    {
      "cell_type": "code",
      "metadata": {
        "id": "UlzY-I-h9wtp",
        "outputId": "ab6531b6-fb14-4ab1-cb15-167f7c17c5e8"
      },
      "source": [
        "# mean loan amount in 30-day loans\n",
        "\n",
        "loan_30_days = round(data.groupby('TermDays')['LoanAmount'].mean().loc[30], 2)\n",
        "loan_30_days"
      ],
      "execution_count": null,
      "outputs": [
        {
          "output_type": "execute_result",
          "data": {
            "text/plain": [
              "7941.96"
            ]
          },
          "metadata": {
            "tags": []
          },
          "execution_count": 173
        }
      ]
    },
    {
      "cell_type": "code",
      "metadata": {
        "id": "OPYOUb529wtp",
        "outputId": "85c15c2a-fd04-4401-b38e-bf4ea1fb172d"
      },
      "source": [
        "# standard deviation of loan amount in 90-day loans\n",
        "\n",
        "loan_90_days = round(data.groupby('TermDays')['LoanAmount'].std().loc[90], 2)\n",
        "loan_90_days"
      ],
      "execution_count": null,
      "outputs": [
        {
          "output_type": "execute_result",
          "data": {
            "text/plain": [
              "18050.14"
            ]
          },
          "metadata": {
            "tags": []
          },
          "execution_count": 174
        }
      ]
    },
    {
      "cell_type": "markdown",
      "metadata": {
        "id": "H6s6O_9p9wtq"
      },
      "source": [
        "--- "
      ]
    },
    {
      "cell_type": "markdown",
      "metadata": {
        "id": "BfXFfEj89wtr"
      },
      "source": [
        "### Question 5"
      ]
    },
    {
      "cell_type": "markdown",
      "metadata": {
        "id": "cWnn31R79wtr"
      },
      "source": [
        "`Late` loans are defined as loans that were paid `more than 3 days` after their due date. Please find the average number of days that these loans were paid beyond their due date for each `week of the year`. This will require you to break all `appilcationDate's` down into the week of the year they were made and then perform a group by. \n",
        "\n",
        "What is the average number of days that `late` loans applied for in the second week of the year were paid late? Please sumbit your answer rounded to two decimal places. "
      ]
    },
    {
      "cell_type": "code",
      "metadata": {
        "id": "RYY2rdfi9wtr",
        "outputId": "6ee24b78-3c11-488b-8d84-383851cd71fd"
      },
      "source": [
        "# Since we will be grouping by the late loans (which we saved DataFrame `after_3_days`), then we will...\n",
        "# ... be working with this dataframe.\n",
        "\n",
        "after_3_days.head()"
      ],
      "execution_count": null,
      "outputs": [
        {
          "output_type": "execute_result",
          "data": {
            "text/html": [
              "<div>\n",
              "<style scoped>\n",
              "    .dataframe tbody tr th:only-of-type {\n",
              "        vertical-align: middle;\n",
              "    }\n",
              "\n",
              "    .dataframe tbody tr th {\n",
              "        vertical-align: top;\n",
              "    }\n",
              "\n",
              "    .dataframe thead th {\n",
              "        text-align: right;\n",
              "    }\n",
              "</style>\n",
              "<table border=\"1\" class=\"dataframe\">\n",
              "  <thead>\n",
              "    <tr style=\"text-align: right;\">\n",
              "      <th></th>\n",
              "      <th>customerID</th>\n",
              "      <th>loanId</th>\n",
              "      <th>appilcationDate</th>\n",
              "      <th>LoanNumber</th>\n",
              "      <th>LoanAmount</th>\n",
              "      <th>InterestRate</th>\n",
              "      <th>TermDays</th>\n",
              "      <th>repaymentDueDate</th>\n",
              "      <th>repaymentPaidDate</th>\n",
              "      <th>dateDifference</th>\n",
              "      <th>week_of_the_year</th>\n",
              "    </tr>\n",
              "  </thead>\n",
              "  <tbody>\n",
              "    <tr>\n",
              "      <th>0</th>\n",
              "      <td>839247458</td>\n",
              "      <td>302953235622</td>\n",
              "      <td>2018-12-21</td>\n",
              "      <td>1</td>\n",
              "      <td>7500.0</td>\n",
              "      <td>30.0</td>\n",
              "      <td>30</td>\n",
              "      <td>2019-01-20</td>\n",
              "      <td>2019-01-16</td>\n",
              "      <td>4</td>\n",
              "      <td>51</td>\n",
              "    </tr>\n",
              "    <tr>\n",
              "      <th>1</th>\n",
              "      <td>217540860</td>\n",
              "      <td>302960101337</td>\n",
              "      <td>2018-12-23</td>\n",
              "      <td>1</td>\n",
              "      <td>7500.0</td>\n",
              "      <td>30.0</td>\n",
              "      <td>30</td>\n",
              "      <td>2019-01-22</td>\n",
              "      <td>2018-12-29</td>\n",
              "      <td>24</td>\n",
              "      <td>51</td>\n",
              "    </tr>\n",
              "    <tr>\n",
              "      <th>2</th>\n",
              "      <td>522238092</td>\n",
              "      <td>303016988846</td>\n",
              "      <td>2019-01-08</td>\n",
              "      <td>1</td>\n",
              "      <td>7500.0</td>\n",
              "      <td>30.0</td>\n",
              "      <td>30</td>\n",
              "      <td>2019-02-07</td>\n",
              "      <td>2019-01-08</td>\n",
              "      <td>30</td>\n",
              "      <td>2</td>\n",
              "    </tr>\n",
              "    <tr>\n",
              "      <th>3</th>\n",
              "      <td>096754469</td>\n",
              "      <td>302999605504</td>\n",
              "      <td>2019-01-04</td>\n",
              "      <td>1</td>\n",
              "      <td>7500.0</td>\n",
              "      <td>30.0</td>\n",
              "      <td>30</td>\n",
              "      <td>2019-02-03</td>\n",
              "      <td>2019-01-08</td>\n",
              "      <td>26</td>\n",
              "      <td>1</td>\n",
              "    </tr>\n",
              "    <tr>\n",
              "      <th>5</th>\n",
              "      <td>027610141</td>\n",
              "      <td>302955854172</td>\n",
              "      <td>2018-12-22</td>\n",
              "      <td>6</td>\n",
              "      <td>45000.0</td>\n",
              "      <td>10.0</td>\n",
              "      <td>90</td>\n",
              "      <td>2019-03-21</td>\n",
              "      <td>2019-01-09</td>\n",
              "      <td>71</td>\n",
              "      <td>51</td>\n",
              "    </tr>\n",
              "  </tbody>\n",
              "</table>\n",
              "</div>"
            ],
            "text/plain": [
              "  customerID        loanId appilcationDate  LoanNumber  LoanAmount  \\\n",
              "0  839247458  302953235622      2018-12-21           1      7500.0   \n",
              "1  217540860  302960101337      2018-12-23           1      7500.0   \n",
              "2  522238092  303016988846      2019-01-08           1      7500.0   \n",
              "3  096754469  302999605504      2019-01-04           1      7500.0   \n",
              "5  027610141  302955854172      2018-12-22           6     45000.0   \n",
              "\n",
              "   InterestRate  TermDays repaymentDueDate repaymentPaidDate  dateDifference  \\\n",
              "0          30.0        30       2019-01-20        2019-01-16               4   \n",
              "1          30.0        30       2019-01-22        2018-12-29              24   \n",
              "2          30.0        30       2019-02-07        2019-01-08              30   \n",
              "3          30.0        30       2019-02-03        2019-01-08              26   \n",
              "5          10.0        90       2019-03-21        2019-01-09              71   \n",
              "\n",
              "   week_of_the_year  \n",
              "0                51  \n",
              "1                51  \n",
              "2                 2  \n",
              "3                 1  \n",
              "5                51  "
            ]
          },
          "metadata": {
            "tags": []
          },
          "execution_count": 189
        }
      ]
    },
    {
      "cell_type": "code",
      "metadata": {
        "id": "zTRt9rwG9wts",
        "outputId": "e71a5ce6-426f-4ec2-d547-a889711cd77e"
      },
      "source": [
        "# To convert the application date to week, you can optionally confirm its data type\n",
        "\n",
        "after_3_days.appilcationDate.head()"
      ],
      "execution_count": null,
      "outputs": [
        {
          "output_type": "execute_result",
          "data": {
            "text/plain": [
              "0   2018-12-21\n",
              "1   2018-12-23\n",
              "2   2019-01-08\n",
              "3   2019-01-04\n",
              "5   2018-12-22\n",
              "Name: appilcationDate, dtype: datetime64[ns]"
            ]
          },
          "metadata": {
            "tags": []
          },
          "execution_count": 190
        }
      ]
    },
    {
      "cell_type": "code",
      "metadata": {
        "id": "htwSVrAj9wts",
        "outputId": "fa5e43c9-e639-4c9a-e1f7-cafb5bb0bc8e"
      },
      "source": [
        "# We will convert the 'appilcationDate' Series to a week number with the `dt.week` function and store...\n",
        "# ... it in a new, created column called 'week_of_the_year'\n",
        "\n",
        "after_3_days['week_of_the_year'] = data['appilcationDate'].dt.week"
      ],
      "execution_count": null,
      "outputs": [
        {
          "output_type": "stream",
          "text": [
            "C:\\Users\\PC\\Anaconda3\\envs\\pytorch_en\\lib\\site-packages\\ipykernel_launcher.py:1: SettingWithCopyWarning: \n",
            "A value is trying to be set on a copy of a slice from a DataFrame.\n",
            "Try using .loc[row_indexer,col_indexer] = value instead\n",
            "\n",
            "See the caveats in the documentation: http://pandas.pydata.org/pandas-docs/stable/indexing.html#indexing-view-versus-copy\n",
            "  \"\"\"Entry point for launching an IPython kernel.\n"
          ],
          "name": "stderr"
        }
      ]
    },
    {
      "cell_type": "code",
      "metadata": {
        "id": "nFmZpcqp9wtt",
        "outputId": "e7e85be1-0aa8-47f7-8cfe-cc9dabf81cfd"
      },
      "source": [
        "# We can confirm that the new column has been added by calling the first five rows of the dataframe\n",
        "\n",
        "after_3_days.head()"
      ],
      "execution_count": null,
      "outputs": [
        {
          "output_type": "execute_result",
          "data": {
            "text/html": [
              "<div>\n",
              "<style scoped>\n",
              "    .dataframe tbody tr th:only-of-type {\n",
              "        vertical-align: middle;\n",
              "    }\n",
              "\n",
              "    .dataframe tbody tr th {\n",
              "        vertical-align: top;\n",
              "    }\n",
              "\n",
              "    .dataframe thead th {\n",
              "        text-align: right;\n",
              "    }\n",
              "</style>\n",
              "<table border=\"1\" class=\"dataframe\">\n",
              "  <thead>\n",
              "    <tr style=\"text-align: right;\">\n",
              "      <th></th>\n",
              "      <th>customerID</th>\n",
              "      <th>loanId</th>\n",
              "      <th>appilcationDate</th>\n",
              "      <th>LoanNumber</th>\n",
              "      <th>LoanAmount</th>\n",
              "      <th>InterestRate</th>\n",
              "      <th>TermDays</th>\n",
              "      <th>repaymentDueDate</th>\n",
              "      <th>repaymentPaidDate</th>\n",
              "      <th>dateDifference</th>\n",
              "      <th>week_of_the_year</th>\n",
              "    </tr>\n",
              "  </thead>\n",
              "  <tbody>\n",
              "    <tr>\n",
              "      <th>0</th>\n",
              "      <td>839247458</td>\n",
              "      <td>302953235622</td>\n",
              "      <td>2018-12-21</td>\n",
              "      <td>1</td>\n",
              "      <td>7500.0</td>\n",
              "      <td>30.0</td>\n",
              "      <td>30</td>\n",
              "      <td>2019-01-20</td>\n",
              "      <td>2019-01-16</td>\n",
              "      <td>4</td>\n",
              "      <td>51</td>\n",
              "    </tr>\n",
              "    <tr>\n",
              "      <th>1</th>\n",
              "      <td>217540860</td>\n",
              "      <td>302960101337</td>\n",
              "      <td>2018-12-23</td>\n",
              "      <td>1</td>\n",
              "      <td>7500.0</td>\n",
              "      <td>30.0</td>\n",
              "      <td>30</td>\n",
              "      <td>2019-01-22</td>\n",
              "      <td>2018-12-29</td>\n",
              "      <td>24</td>\n",
              "      <td>51</td>\n",
              "    </tr>\n",
              "    <tr>\n",
              "      <th>2</th>\n",
              "      <td>522238092</td>\n",
              "      <td>303016988846</td>\n",
              "      <td>2019-01-08</td>\n",
              "      <td>1</td>\n",
              "      <td>7500.0</td>\n",
              "      <td>30.0</td>\n",
              "      <td>30</td>\n",
              "      <td>2019-02-07</td>\n",
              "      <td>2019-01-08</td>\n",
              "      <td>30</td>\n",
              "      <td>2</td>\n",
              "    </tr>\n",
              "    <tr>\n",
              "      <th>3</th>\n",
              "      <td>096754469</td>\n",
              "      <td>302999605504</td>\n",
              "      <td>2019-01-04</td>\n",
              "      <td>1</td>\n",
              "      <td>7500.0</td>\n",
              "      <td>30.0</td>\n",
              "      <td>30</td>\n",
              "      <td>2019-02-03</td>\n",
              "      <td>2019-01-08</td>\n",
              "      <td>26</td>\n",
              "      <td>1</td>\n",
              "    </tr>\n",
              "    <tr>\n",
              "      <th>5</th>\n",
              "      <td>027610141</td>\n",
              "      <td>302955854172</td>\n",
              "      <td>2018-12-22</td>\n",
              "      <td>6</td>\n",
              "      <td>45000.0</td>\n",
              "      <td>10.0</td>\n",
              "      <td>90</td>\n",
              "      <td>2019-03-21</td>\n",
              "      <td>2019-01-09</td>\n",
              "      <td>71</td>\n",
              "      <td>51</td>\n",
              "    </tr>\n",
              "  </tbody>\n",
              "</table>\n",
              "</div>"
            ],
            "text/plain": [
              "  customerID        loanId appilcationDate  LoanNumber  LoanAmount  \\\n",
              "0  839247458  302953235622      2018-12-21           1      7500.0   \n",
              "1  217540860  302960101337      2018-12-23           1      7500.0   \n",
              "2  522238092  303016988846      2019-01-08           1      7500.0   \n",
              "3  096754469  302999605504      2019-01-04           1      7500.0   \n",
              "5  027610141  302955854172      2018-12-22           6     45000.0   \n",
              "\n",
              "   InterestRate  TermDays repaymentDueDate repaymentPaidDate  dateDifference  \\\n",
              "0          30.0        30       2019-01-20        2019-01-16               4   \n",
              "1          30.0        30       2019-01-22        2018-12-29              24   \n",
              "2          30.0        30       2019-02-07        2019-01-08              30   \n",
              "3          30.0        30       2019-02-03        2019-01-08              26   \n",
              "5          10.0        90       2019-03-21        2019-01-09              71   \n",
              "\n",
              "   week_of_the_year  \n",
              "0                51  \n",
              "1                51  \n",
              "2                 2  \n",
              "3                 1  \n",
              "5                51  "
            ]
          },
          "metadata": {
            "tags": []
          },
          "execution_count": 179
        }
      ]
    },
    {
      "cell_type": "code",
      "metadata": {
        "id": "AknxB8Ll9wtv"
      },
      "source": [
        "# Now you can filter out the rows with only second week of the year.\n",
        "# This returns a DataFrame, we can assign this DataFrame to the variable `after_3_days`\n",
        "\n",
        "after_3_days = after_3_days[after_3_days['week_of_the_year'] == 2]"
      ],
      "execution_count": null,
      "outputs": []
    },
    {
      "cell_type": "code",
      "metadata": {
        "id": "vZhC18vo9wtw",
        "outputId": "7e471b49-450b-4961-ab14-72a1ff8af10f"
      },
      "source": [
        "# Check to see if the filtering was done right...\n",
        "\n",
        "after_3_days.head()"
      ],
      "execution_count": null,
      "outputs": [
        {
          "output_type": "execute_result",
          "data": {
            "text/html": [
              "<div>\n",
              "<style scoped>\n",
              "    .dataframe tbody tr th:only-of-type {\n",
              "        vertical-align: middle;\n",
              "    }\n",
              "\n",
              "    .dataframe tbody tr th {\n",
              "        vertical-align: top;\n",
              "    }\n",
              "\n",
              "    .dataframe thead th {\n",
              "        text-align: right;\n",
              "    }\n",
              "</style>\n",
              "<table border=\"1\" class=\"dataframe\">\n",
              "  <thead>\n",
              "    <tr style=\"text-align: right;\">\n",
              "      <th></th>\n",
              "      <th>customerID</th>\n",
              "      <th>loanId</th>\n",
              "      <th>appilcationDate</th>\n",
              "      <th>LoanNumber</th>\n",
              "      <th>LoanAmount</th>\n",
              "      <th>InterestRate</th>\n",
              "      <th>TermDays</th>\n",
              "      <th>repaymentDueDate</th>\n",
              "      <th>repaymentPaidDate</th>\n",
              "      <th>dateDifference</th>\n",
              "      <th>week_of_the_year</th>\n",
              "    </tr>\n",
              "  </thead>\n",
              "  <tbody>\n",
              "    <tr>\n",
              "      <th>2</th>\n",
              "      <td>522238092</td>\n",
              "      <td>303016988846</td>\n",
              "      <td>2019-01-08</td>\n",
              "      <td>1</td>\n",
              "      <td>7500.0</td>\n",
              "      <td>30.0</td>\n",
              "      <td>30</td>\n",
              "      <td>2019-02-07</td>\n",
              "      <td>2019-01-08</td>\n",
              "      <td>30</td>\n",
              "      <td>2</td>\n",
              "    </tr>\n",
              "    <tr>\n",
              "      <th>26</th>\n",
              "      <td>153423083</td>\n",
              "      <td>303028288661</td>\n",
              "      <td>2019-01-10</td>\n",
              "      <td>1</td>\n",
              "      <td>11000.0</td>\n",
              "      <td>27.0</td>\n",
              "      <td>45</td>\n",
              "      <td>2019-02-24</td>\n",
              "      <td>2019-01-10</td>\n",
              "      <td>45</td>\n",
              "      <td>2</td>\n",
              "    </tr>\n",
              "    <tr>\n",
              "      <th>62</th>\n",
              "      <td>727837791</td>\n",
              "      <td>303024393054</td>\n",
              "      <td>2019-01-09</td>\n",
              "      <td>1</td>\n",
              "      <td>4000.0</td>\n",
              "      <td>30.0</td>\n",
              "      <td>30</td>\n",
              "      <td>2019-02-08</td>\n",
              "      <td>2019-01-11</td>\n",
              "      <td>28</td>\n",
              "      <td>2</td>\n",
              "    </tr>\n",
              "    <tr>\n",
              "      <th>71</th>\n",
              "      <td>867496972</td>\n",
              "      <td>303017276507</td>\n",
              "      <td>2019-01-08</td>\n",
              "      <td>2</td>\n",
              "      <td>20000.0</td>\n",
              "      <td>20.0</td>\n",
              "      <td>60</td>\n",
              "      <td>2019-03-07</td>\n",
              "      <td>2019-01-15</td>\n",
              "      <td>51</td>\n",
              "      <td>2</td>\n",
              "    </tr>\n",
              "    <tr>\n",
              "      <th>82</th>\n",
              "      <td>251292580</td>\n",
              "      <td>303026679722</td>\n",
              "      <td>2019-01-10</td>\n",
              "      <td>1</td>\n",
              "      <td>5000.0</td>\n",
              "      <td>30.0</td>\n",
              "      <td>30</td>\n",
              "      <td>2019-02-09</td>\n",
              "      <td>2019-01-13</td>\n",
              "      <td>27</td>\n",
              "      <td>2</td>\n",
              "    </tr>\n",
              "  </tbody>\n",
              "</table>\n",
              "</div>"
            ],
            "text/plain": [
              "   customerID        loanId appilcationDate  LoanNumber  LoanAmount  \\\n",
              "2   522238092  303016988846      2019-01-08           1      7500.0   \n",
              "26  153423083  303028288661      2019-01-10           1     11000.0   \n",
              "62  727837791  303024393054      2019-01-09           1      4000.0   \n",
              "71  867496972  303017276507      2019-01-08           2     20000.0   \n",
              "82  251292580  303026679722      2019-01-10           1      5000.0   \n",
              "\n",
              "    InterestRate  TermDays repaymentDueDate repaymentPaidDate  dateDifference  \\\n",
              "2           30.0        30       2019-02-07        2019-01-08              30   \n",
              "26          27.0        45       2019-02-24        2019-01-10              45   \n",
              "62          30.0        30       2019-02-08        2019-01-11              28   \n",
              "71          20.0        60       2019-03-07        2019-01-15              51   \n",
              "82          30.0        30       2019-02-09        2019-01-13              27   \n",
              "\n",
              "    week_of_the_year  \n",
              "2                  2  \n",
              "26                 2  \n",
              "62                 2  \n",
              "71                 2  \n",
              "82                 2  "
            ]
          },
          "metadata": {
            "tags": []
          },
          "execution_count": 202
        }
      ]
    },
    {
      "cell_type": "code",
      "metadata": {
        "id": "IEJgs6Lz9wtx",
        "outputId": "ec3d2f5d-eca3-4b0b-bab2-e571df981706"
      },
      "source": [
        "# week of year and average number of late days\n",
        "\n",
        "avg_num_of_late_days = round(after_3_days.groupby('week_of_the_year')['dateDifference'].mean(), 2)\n",
        "\n",
        "avg_num_of_late_days\n",
        "\n",
        "# We can see below that the average number of late days in the second week is 32, since our data type...\n",
        "# ... is an integer, we cannot therefore round it up to any decimal place at all."
      ],
      "execution_count": null,
      "outputs": [
        {
          "output_type": "execute_result",
          "data": {
            "text/plain": [
              "week_of_the_year\n",
              "2    32\n",
              "Name: dateDifference, dtype: int32"
            ]
          },
          "metadata": {
            "tags": []
          },
          "execution_count": 204
        }
      ]
    },
    {
      "cell_type": "markdown",
      "metadata": {
        "id": "43c170kE9wty"
      },
      "source": [
        "### The End"
      ]
    },
    {
      "cell_type": "markdown",
      "metadata": {
        "id": "TAZUCOfc9wtz"
      },
      "source": [
        "Thank you for completing the challenge. Please make sure you have submitted all of your answers to the arise Challenge Answers form. "
      ]
    },
    {
      "cell_type": "markdown",
      "metadata": {
        "id": "rkO178x_9wtz"
      },
      "source": [
        "### Notebook\n",
        "Please save you notebook as `yourEmail.ipynb` where you replace `yourEmail` with your actual email address and attach it to the arise Challenge Answers form. "
      ]
    }
  ]
}